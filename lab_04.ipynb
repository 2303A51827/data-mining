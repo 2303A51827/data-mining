{
  "nbformat": 4,
  "nbformat_minor": 0,
  "metadata": {
    "colab": {
      "provenance": [],
      "authorship_tag": "ABX9TyMH7ZgBGpWxBEe5jn5hwnI9",
      "include_colab_link": true
    },
    "kernelspec": {
      "name": "python3",
      "display_name": "Python 3"
    },
    "language_info": {
      "name": "python"
    }
  },
  "cells": [
    {
      "cell_type": "markdown",
      "metadata": {
        "id": "view-in-github",
        "colab_type": "text"
      },
      "source": [
        "<a href=\"https://colab.research.google.com/github/2303A51827/data-mining/blob/main/lab_04.ipynb\" target=\"_parent\"><img src=\"https://colab.research.google.com/assets/colab-badge.svg\" alt=\"Open In Colab\"/></a>"
      ]
    },
    {
      "cell_type": "code",
      "execution_count": null,
      "metadata": {
        "id": "8cIHgoXGmVR-"
      },
      "outputs": [],
      "source": [
        "import numpy as np\n",
        "import pandas as pd\n",
        "from sklearn.preprocessing import LabelEncoder"
      ]
    },
    {
      "cell_type": "code",
      "source": [
        "df=pd.read_csv('/content/wine_data.csv')\n",
        "print(df)"
      ],
      "metadata": {
        "colab": {
          "base_uri": "https://localhost:8080/"
        },
        "id": "arc-26JtmyHi",
        "outputId": "4a9014b5-0668-4fd2-f02e-2d8d7289e497"
      },
      "execution_count": null,
      "outputs": [
        {
          "output_type": "stream",
          "name": "stdout",
          "text": [
            "       fixed_acidity  volatile_acidity  citric_acid  residual_sugar  \\\n",
            "0               11.6             0.580         0.66            2.20   \n",
            "1               10.4             0.610         0.49            2.10   \n",
            "2                7.4             1.185         0.00            4.25   \n",
            "3               10.4             0.440         0.42            1.50   \n",
            "4                8.3             1.020         0.02            3.40   \n",
            "...              ...               ...          ...             ...   \n",
            "20995            9.7             1.020         0.91           50.00   \n",
            "20996           10.2             0.610         0.88           53.80   \n",
            "20997           13.4             0.460         1.04           52.10   \n",
            "20998            6.6             1.030         1.09           25.30   \n",
            "20999            9.3             0.930         1.32           33.60   \n",
            "\n",
            "       chlorides  free_sulfur_dioxide  total_sulfur_dioxide  density    pH  \\\n",
            "0          0.074                 10.0                  47.0  1.00080  3.25   \n",
            "1          0.200                  5.0                  16.0  0.99940  3.16   \n",
            "2          0.097                  5.0                  14.0  0.99660  3.63   \n",
            "3          0.145                 34.0                  48.0  0.99832  3.38   \n",
            "4          0.084                  6.0                  11.0  0.99892  3.48   \n",
            "...          ...                  ...                   ...      ...   ...   \n",
            "20995      0.412                114.6                 181.7  1.02085  3.30   \n",
            "20996      0.250                 62.4                 204.7  1.02776  3.52   \n",
            "20997      0.449                 63.0                 273.5  1.02618  2.89   \n",
            "20998      0.138                179.8                 295.0  1.02476  2.94   \n",
            "20999      0.412                128.7                 290.1  1.02182  3.16   \n",
            "\n",
            "       sulphates  alcohol  quality  \n",
            "0           0.57      9.0        3  \n",
            "1           0.63      8.4        3  \n",
            "2           0.54     10.7        3  \n",
            "3           0.86      9.9        3  \n",
            "4           0.49     11.0        3  \n",
            "...          ...      ...      ...  \n",
            "20995       0.89     12.0        9  \n",
            "20996       1.14      9.7        9  \n",
            "20997       1.76      9.3        9  \n",
            "20998       1.54     12.9        9  \n",
            "20999       1.42     13.0        9  \n",
            "\n",
            "[21000 rows x 12 columns]\n"
          ]
        }
      ]
    },
    {
      "cell_type": "code",
      "source": [
        "\n",
        "label_encoder = LabelEncoder()\n",
        "df[\"quality_encoded\"] = label_encoder.fit_transform(df[\"quality\"])"
      ],
      "metadata": {
        "id": "fNYra8pImyEH"
      },
      "execution_count": null,
      "outputs": []
    },
    {
      "cell_type": "code",
      "source": [
        "df[\"total_acidity\"] = df[\"fixed_acidity\"] + df[\"volatile_acidity\"] + df[\"citric_acid\"]"
      ],
      "metadata": {
        "id": "sxmar2cymyBR"
      },
      "execution_count": null,
      "outputs": []
    },
    {
      "cell_type": "code",
      "source": [
        "quality_grouped = df.groupby(\"quality\")[\"alcohol\"].mean()\n",
        "print(\"Mean Alcohol Content by Quality:\")\n",
        "print(quality_grouped)\n"
      ],
      "metadata": {
        "colab": {
          "base_uri": "https://localhost:8080/"
        },
        "id": "U_dypsxAmx-2",
        "outputId": "c946e609-d5aa-4dac-a07c-9763cf0e843a"
      },
      "execution_count": null,
      "outputs": [
        {
          "output_type": "stream",
          "name": "stdout",
          "text": [
            "Mean Alcohol Content by Quality:\n",
            "quality\n",
            "3    11.624750\n",
            "4    11.553267\n",
            "5    10.371093\n",
            "6    10.646033\n",
            "7    11.619100\n",
            "8    11.595200\n",
            "9    11.632567\n",
            "Name: alcohol, dtype: float64\n"
          ]
        }
      ]
    },
    {
      "cell_type": "code",
      "source": [
        "pivot_table = df.pivot_table(values=\"total_acidity\", index=\"quality\", aggfunc=\"mean\")\n",
        "print(\"\\nAverage Total Acidity by Quality:\")\n",
        "print(pivot_table)"
      ],
      "metadata": {
        "colab": {
          "base_uri": "https://localhost:8080/"
        },
        "id": "mfh4PGqjmx8N",
        "outputId": "a905e520-6b73-4cf8-8833-de855ba2bdfa"
      },
      "execution_count": null,
      "outputs": [
        {
          "output_type": "stream",
          "name": "stdout",
          "text": [
            "\n",
            "Average Total Acidity by Quality:\n",
            "         total_acidity\n",
            "quality               \n",
            "3            12.908573\n",
            "4            12.597317\n",
            "5             9.445082\n",
            "6             8.088332\n",
            "7            10.979415\n",
            "8            12.584022\n",
            "9            12.957470\n"
          ]
        }
      ]
    },
    {
      "cell_type": "code",
      "source": [
        "df.to_csv(\"/content/wine_data.csv\", index=False)"
      ],
      "metadata": {
        "id": "JgeGPxmSmx5U"
      },
      "execution_count": null,
      "outputs": []
    },
    {
      "cell_type": "code",
      "source": [],
      "metadata": {
        "id": "TQi_sb0zmx2u"
      },
      "execution_count": null,
      "outputs": []
    }
  ]
}